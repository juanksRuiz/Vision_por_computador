{
 "cells": [
  {
   "cell_type": "markdown",
   "id": "statutory-folks",
   "metadata": {},
   "source": [
    "# Proyecto 2B: practicando el filtrado (también frecuencial)\n"
   ]
  },
  {
   "cell_type": "markdown",
   "id": "sorted-colon",
   "metadata": {},
   "source": [
    "## 1. Intuición acerca de las convoluciones bidimensionales y el filtrado\n",
    "\n",
    "### 1.1 Operador de diferencias finitas\n",
    "\n",
    "Se comenzará usando la diferencia finita en las direcciones $x$ y $y$: $D_x=(1 -1)$ y $D_y=\n",
    "\\begin{pmatrix}\n",
    "1 \\\\ -1\n",
    "\\end{pmatrix}\n",
    "$\n",
    "\n",
    "Primero, muestre la derivada parcial en $x$ e $y$ de la imagen del camarógrafo (`skimage.data.camera()`) convolucionando la imagen con los operadores de diferencias finitas $D_x$ y $D_y$ (puede usar `scipy.signal.convolve2d`)). Ahora calcule y muestre la imagen de la magnitud del gradiente. Para convertir esto en una imagen de bordes, binarice la imagen de la magnitud del gradiente seleccionando un umbral apropiado (tratando de suprimir el ruido mientras se muestran todos los bordes reales; le tomará algunos intentos encontrar el umbral correcto)."
   ]
  },
  {
   "cell_type": "markdown",
   "id": "amended-heritage",
   "metadata": {},
   "source": [
    "### 1.2 Derivada del filtro Gaussiano (DoG)"
   ]
  },
  {
   "cell_type": "markdown",
   "id": "expired-camcorder",
   "metadata": {
    "lang": "en"
   },
   "source": [
    "Antes debió observar que los resultados con solo el operador de diferencia eran bastante ruidosos. Afortunadamente, tenemos un operador de suavizado: el filtro Gaussiano. Cree una versión borrosa de la imagen original convolucionando con un kernel gaussiano y repita el procedimiento de la parte anterior  ¿Qué diferencias ves? Ahora podemos hacer lo mismo con una sola convolución en lugar de dos creando una derivada de filtros gaussianos. Convolucione el kernel gaussiano con $D_x$ y $D_y$ y muestre los filtros DoG resultantes como imágenes. Verifique que el resultado sea el mismo que antes.\n",
    "\n",
    "Una forma de crear un filtro gaussiano 2D es usando `scipy.signal.gaussian` para crear un gaussiano 1D y luego tomar un producto externo para obtener un kernel gaussiano 2D. Vea el código siguiente:"
   ]
  },
  {
   "cell_type": "code",
   "execution_count": 2,
   "id": "active-andrew",
   "metadata": {
    "lang": "es"
   },
   "outputs": [],
   "source": [
    "import numpy as np\n",
    "from scipy import signal\n",
    "\n",
    "def gkern(kernlen=21, std=3):\n",
    "    \"\"\"Returns a 2D Gaussian kernel array.\"\"\"\n",
    "    gkern1d = signal.gaussian(kernlen, std=std).reshape(kernlen, 1)\n",
    "    gkern2d = np.outer(gkern1d, gkern1d)\n",
    "    return gkern2d"
   ]
  },
  {
   "cell_type": "markdown",
   "id": "naked-compilation",
   "metadata": {},
   "source": [
    "### 1.3 Enderezamiento de una imagen"
   ]
  },
  {
   "cell_type": "markdown",
   "id": "noble-brief",
   "metadata": {
    "lang": "es"
   },
   "source": [
    "Recuerda la última vez que tomaste una foto con tu teléfono y la imagen no era recta. Probablemente intentaste girar la imagen manualmente para enderezarla. En este problema, se automatizará el proceso de enderezamiento de la imagen para ahorrar algo de tiempo. Se sabe que estadísticamente existe una preferencia por los bordes verticales y horizontales en la mayoría de las imágenes (¡debido a la gravedad!). Usaremos esta información al intentar rotar una imagen para maximizar el número de bordes verticales y horizontales. Para enderezar una imagen, genere un conjunto de rotaciones propuestas. Para cada ángulo de rotación propuesto:\n",
    "\n",
    "- Gire la imagen según el ángulo de rotación propuesto utilizando la función de rotación incorporada en python (por ejemplo, scipy.ndimage.interpolation.rotate en python).\n",
    "- Calcule el ángulo del gradiente de los bordes de la imagen (pero ignore los bordes de la imagen creados por la propia rotación; una forma sencilla de hacerlo es recortar siempre la parte central de la imagen).\n",
    "- Calcule un histograma de estos ángulos (por ejemplo, matplotlib.pyplot.hist en python).\n",
    "\n",
    "Finalmente, elija la rotación con el número máximo de bordes horizontales y verticales. Muestre el histograma de orientación y el resultado de enderezamiento de la siguiente imagen: ![](images2/facade.jpg)\n",
    "\n",
    "También muestre su resultado en 3 imágenes más de su elección, de las cuales al menos una debería ser un caso de falla. Para cada imagen, debe mostrar la imagen original, la imagen enderezada y sus histogramas de orientación.\n",
    "Pruebe a ver si puede mejorar su resultado tal vez usando el dominio de Fourier (esto es opcional extra)."
   ]
  },
  {
   "cell_type": "markdown",
   "id": "authorized-journalism",
   "metadata": {},
   "source": [
    "## 2. Frecuencias"
   ]
  },
  {
   "cell_type": "markdown",
   "id": "moral-america",
   "metadata": {
    "lang": "es"
   },
   "source": [
    "### 2.1 Nitidez de la imagen\n",
    "Escoja una imagen borrosa y prepárese para \"enfocarla\".  Derive la técnica la técnica de enmascaramiento de enfoque (unsharp masking). El filtro Gaussiano, es un filtro pasabajas que retiene solo las frecuencias bajas. Podemos restar la versión borrosa de la imagen original para obtener las altas frecuencias de la imagen. Una imagen a menudo se ve más nítida si tiene altas frecuencias más fuertes. Entonces, agrega un poco más de frecuencias altas a la imagen. Combine esto en una sola operación de convolución que se denomina unsharp mask filter. Muestre su resultado en la siguiente imagen  más otras imágenes de su elección. ![](images2/taj.jpg)\n",
    "\n",
    "También para propósistos de evaluación, elija una imagen nítida, difumínela (vuelvala borrosa) y luego intente enfocarla nuevamente. Compare la imagen original y la más nítida e informe sus observaciones."
   ]
  },
  {
   "cell_type": "markdown",
   "id": "extra-midnight",
   "metadata": {},
   "source": [
    "### 2.2 Imágenes híbridas"
   ]
  },
  {
   "cell_type": "markdown",
   "id": "blocked-spring",
   "metadata": {
    "lang": "es"
   },
   "source": [
    "#### Introducción \n",
    "El objetivo de esta parte de la tarea es crear [imágenes híbridas](http://olivalab.mit.edu/hybrid_gallery/gallery.html) utilizando el enfoque descrito en el [artículo](http://olivalab.mit.edu/publications/OlivaTorralb_Hybrid_Siggraph06.pdf) de Oliva, Torralba y Schyns. Las imágenes híbridas son imágenes estáticas que cambian de interpretación en función de la distancia de visualización. La idea básica es que la alta frecuencia tiende a dominar la percepción cuando está disponible, pero, a distancia, solo se puede ver la parte de baja frecuencia (suave) de la señal. Al combinar la parte de alta frecuencia de una imagen con la parte de baja frecuencia de otra, se obtiene una imagen híbrida que conduce a diferentes interpretaciones en diferentes distancias."
   ]
  },
  {
   "cell_type": "markdown",
   "id": "lightweight-frank",
   "metadata": {
    "lang": "es"
   },
   "source": [
    "### Implementación\n",
    "Se incluyen dos imágenes de muestra (gato y einstein) y un código para empezar de python que se puede usar para cargar dos imágenes y alinearlas (`hybrid_image_starter.py`). La alineación es importante porque afecta la agrupación perceptual (lea el paper para obtener más detalles).\n",
    "\n",
    "1. Primero, necesitará obtener algunos pares de imágenes que desee convertir en imágenes híbridas. Puede usar las imágenes de muestra para depurar, pero debe usar sus propias imágenes en sus resultados. Luego, deberá escribir código para hacer un filtrado pasabajo sobre una imagen, hacer un filtrado pasaalto a la segunda imagen y agregar (o promediar) las dos imágenes. Para un filtro de pasabajo, Oliva et al. sugiera el uso de un filtro gaussiano 2D estándar. Para un filtro  pasaalto, sugieren usar el filtro de impulso menos el filtro gaussiano (que se puede calcular restando la imagen filtrada por Gauss de la original). La frecuencia de corte de cada filtro debe elegirse con cierta experimentación.\n",
    "\n",
    "2. Para obtener su resultado favorito, también debe ilustrar el proceso a través del análisis de frecuencia. Muestre la magnitud logarítmica de la transformada de Fourier de las dos imágenes de entrada, las imágenes filtradas y la imagen híbrida. En python, puede calcular y mostrar la transformada de Fourier 2D con: \n",
    "`plt.imshow (np.log (np.abs (np.fft.fftshift (np.fft.fft2 (gris_ imagen)))))`.\n",
    "\n",
    "3. Intente crear 2-3 imágenes híbridas (cambio de expresión, transformación entre diferentes objetos, cambio con el tiempo, etc.). Muestre la imagen de entrada y el resultado híbrido por cada ejemplo. (No es necesario mostrar los resultados intermedios como en el paso 2.)\n",
    "\n",
    "Intente usar color para mejorar el efecto. ¿Funciona mejor usar color para el componente de alta frecuencia, el componente de baja frecuencia o ambos?\n",
    "\n",
    "El código para ejecutar la imagen híbrida se muestra a continuación. En donde, se debe crear la función de `imagen_hibrida`. Nota: este script realiza la entrada de las coordenadas para alinear usando `ginput` que no funciona sobre jupyter, deberá cambiar este método por algo interactivo en el notebook como los widgets de jupyter."
   ]
  },
  {
   "cell_type": "code",
   "execution_count": null,
   "id": "danish-dealer",
   "metadata": {},
   "outputs": [],
   "source": [
    "import matplotlib.pyplot as plt\n",
    "%matplotlib notebook\n",
    "from alinear_imagen import align_images\n",
    "\n",
    "# Carga las imagenes\n",
    "\n",
    "# alta frecuencia\n",
    "im1 = plt.imread('images2/einstein.jpg')/255.\n",
    "\n",
    "# baja frecuencia\n",
    "im2 = plt.imread('images2/gato.jpg')/255\n",
    "\n",
    "# alinea las imagenes (pero puede mejorar)\n",
    "im1_aligned, im2_aligned = align_images(im1, im2)"
   ]
  },
  {
   "cell_type": "code",
   "execution_count": null,
   "id": "awful-effect",
   "metadata": {},
   "outputs": [],
   "source": [
    "## Deberas realizar el codigo de imagen_hibrida. Sigma1 and sigma2 son valores de corte arbitrarios para\n",
    "## las bajas y altas frecuencias\n",
    "\n",
    "sigma1 = arbitrary_value_1\n",
    "sigma2 = arbitrary_value_2\n",
    "hybrid = imagen_hibrida(im1, im2, sigma1, sigma2)\n",
    "\n",
    "plt.imshow(hybrid)\n",
    "plt.show"
   ]
  },
  {
   "cell_type": "markdown",
   "id": "owned-allowance",
   "metadata": {},
   "source": [
    "## Entregables\n",
    "\n",
    "Para este proyecto debera entregar el desarrollo y visualización de los resultados en un notebook de jupyter donde se muestre el código realizado (y las pruebas). También, debe entregar un pequeño informe del proyecto con una breve descripción del proyecto explicando el enfoque desarrollado y el análisis de los resultados .(Puede ser otro notebook, pero sin código, o un documento en PDF).\n",
    "\n",
    "Es aconsejable en el notebook solo mostrar las imágenes (resultados) en un formato comprimido (jpg por ejm).  Muestre los resultados mostrando las imagenes originales y las posteriores al procedimiento. \n",
    "Si algún resultado no es bueno, explique por qué sucede esto. Describa cualquier idea extra implementada. "
   ]
  }
 ],
 "metadata": {
  "kernelspec": {
   "display_name": "Python 3",
   "language": "python",
   "name": "python3"
  },
  "language_info": {
   "codemirror_mode": {
    "name": "ipython",
    "version": 3
   },
   "file_extension": ".py",
   "mimetype": "text/x-python",
   "name": "python",
   "nbconvert_exporter": "python",
   "pygments_lexer": "ipython3",
   "version": "3.9.1"
  },
  "nbTranslate": {
   "displayLangs": [
    "es"
   ],
   "hotkey": "alt-t",
   "langInMainMenu": true,
   "sourceLang": "en",
   "targetLang": "es",
   "useGoogleTranslate": true
  },
  "varInspector": {
   "cols": {
    "lenName": 16,
    "lenType": 16,
    "lenVar": 40
   },
   "kernels_config": {
    "python": {
     "delete_cmd_postfix": "",
     "delete_cmd_prefix": "del ",
     "library": "var_list.py",
     "varRefreshCmd": "print(var_dic_list())"
    },
    "r": {
     "delete_cmd_postfix": ") ",
     "delete_cmd_prefix": "rm(",
     "library": "var_list.r",
     "varRefreshCmd": "cat(var_dic_list()) "
    }
   },
   "types_to_exclude": [
    "module",
    "function",
    "builtin_function_or_method",
    "instance",
    "_Feature"
   ],
   "window_display": false
  }
 },
 "nbformat": 4,
 "nbformat_minor": 5
}
