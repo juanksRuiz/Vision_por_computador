{
 "cells": [
  {
   "cell_type": "markdown",
   "metadata": {},
   "source": [
    "# Segmentando Glóbulos rojos para detectar  la Malaria\n",
    "\n",
    "## Introducción\n",
    "\n",
    "![](muestra.jpg)\n",
    "\n",
    "\n",
    "Uno de los cuadros hematológicos que pueden tener un gran impacto en la salud del paciente es el de las anemias, y especialmente los cuadros agudos de anemias hemolíticas en los que se sobrepasa la capacidad de compensación de la médula ósea para producir nuevos glóbulos rojos (hematíes). Existen cuatro casos que pueden poner en riesgo la situación clínica del paciente, por lo que es esencial tomar las medidas terapéuticas oportunas a tiempo: la malaria, las anemias microangiopáticas, la anemia hemolítica autoinmune y la drepanocitosis. \n",
    "\n",
    "Los cambios morfológicos producidos en los hematíes por estos cuadros pueden confirmarse con el análisis visual del frotis de sangre periférica (SP) en un microscopio óptico. Como la SP es un fluido fácilmente accesible, este análisis es clave para una primera detección de anomalías en las células circulantes. La OMS considera la morfología celular, junto a otras técnicas como el inmunofenotipo y la genética, esencial para el diagnóstico de las enfermedades hematológicas, siendo imprescindible para las anemias y trombocitopenias, así como para la identificación y caracterización de diferentes hemopatías malignas. \n",
    "\n",
    "El principal inconveniente del frotis de SP es el consumo de tiempo que conlleva una revisión adecuada y la disponibilidad de un personal con amplia experiencia en su interpretación objetiva y fiable. Por ello, algunos investigadores han desarrollado sistemas computarizados que combinan el procesamiento digital de imágenes de microscopio con algoritmos de reconocimiento de patrones, para la identificación de diferentes elementos sanguíneos. Estos podrían ser útiles para el diagnóstico morfológico, añadiendo precisión y fiabilidad, y completando la interpretación manual con medidas objetivas. A pesar de los esfuerzos para desarrollar un sistema de reconocimiento automático de las alteraciones morfológicas de los hematíes, no existe todavía un método de diagnóstico fiable y preciso para las anemias hemolíticas graves. \n",
    "\n",
    "Por esta razón,  en este proyecto realizaremos diversas técnicas para segmentar y detectar hematíes (ó glóblulos rojos - RBC) para ayudar a identificar en un futuro posibles patologías de las cuatro entidades clínicas de mayor riesgo causantes de anemias hemolíticas graves: a) la malaria asociada al Plasmodium Falciparum, la más importante de las especies de malaria por su malignidad; b) la anemia hemolítica autoinmune asociada a la presencia de esferocitos en la SP; c) la anemia falciforme asociada a drepanocitos; y d) la micoangiopatía trombótica (púrpura trombótica trombocitopénica, síndrome hemolítico-urémico o secundaria) asociada a esquistocitos."
   ]
  },
  {
   "cell_type": "markdown",
   "metadata": {},
   "source": [
    "Herramienta para construir las etiquetas de referencia: https://cvat.org/"
   ]
  },
  {
   "cell_type": "markdown",
   "metadata": {},
   "source": [
    "LA idea es construir un ground truth usando cvat y posteriormente idear algunos algoritmos de segmentación. 1. Técnica básica con otsu, 2. color clustering básico con kmeans y luego gmm, 3. super pixels + color clustering 4. Watershed con marcadores sobre el gradiente. 5. Borders + Transformada de Hough circular y elíptica. 6. Propuesto propio que mezcle técnicas (por ejm usando graph cuts, contornos activos, etc)."
   ]
  },
  {
   "cell_type": "markdown",
   "metadata": {},
   "source": [
    "## 1. Construcción de un ground truth entre todos.\n",
    "\n",
    "En esta parte construiran las etiquetas para 10-15 imágenes digitales de sangre periférica. Para esto deberan usar la herramienta gratuita y online disponible en https://cvat.org/ (se deben registrar, pero es sencillo). Cada grupo etiquetara (o mejor, segmentará) \"manualmente\" todos los hematíes (y alguna plaqueta), dentro de la carpeta patient_XX donde XX es el número del grupo.  Siga los siguientes pasos para crear el dataset:\n",
    "\n",
    "- Cree un proyecto con el nombre y etiquetas como se muestra: ![Cree un proyecto con el nombre y etiquetas como se muestra](cvat_project.png)\n",
    "\n",
    "- Luego cree una tarea para etiquetar como se muestra: ![](cvat_task.png)\n",
    "\n",
    "- Posteriormente realice las etiquetas, usando principalmente polígonos (es más rápido si mantiente presionada la tecla SHIFT, para terminar la region presione la tecla N), para cada figura. No olvide ir guardando. La siguiente figura muestra un ejemplo: ![](example_labeledRBC_cvat.png)\n",
    "\n",
    "- Una vez terminado el etiquetado, vaya a Menu -> export as a dataset -> Segmentation mask 1.1. Esto generará un archivo ZIP que contiene diversas carpetas con las imágenes originales, las máscaras separadas por etiqueta (SegmentationObject) y las máscaras por cada región de interés (SegmentationClass). También exporte el etiquetado en el formato *CVAT for images 1.1.* \n",
    "\n",
    "- Suba los archivos respectivos a la carpeta compartida [colocar carpeta]() con el nombre del paciente respectivo, antes del próximo Martes 23 de Marzo.  \n",
    "\n",
    "Nota sobre este punto: Para comenzar no es necesario que complete completamente este punto, tan sólo etiquete la primera imagen y utilicela como referencia para los siguientes procedimientos de segmentación. Al final, si compruebe el resultado de cada método con el ground truth creado y con el construido entre todos. "
   ]
  },
  {
   "cell_type": "markdown",
   "metadata": {},
   "source": [
    "## 2. Métrica de Segmentación \n",
    "\n",
    "Utilizaremos el ground truth creado por todos para evaluar los diferentes métodos de segmentación. Existen diversas métricas de segmentación como el coficiente DICE o el [índice de Jaccard](https://en.wikipedia.org/wiki/Jaccard_index). También conocido como el coeficiente IoU. El índice de Jaccard ( IJ ) o IoU (intersection over union) se calcula como $$IoU = \\frac{A \\cap B}{A \\cup B}$$\n",
    "\n",
    "![](https://upload.wikimedia.org/wikipedia/commons/c/c7/Intersection_over_Union_-_visual_equation.png)"
   ]
  },
  {
   "cell_type": "markdown",
   "metadata": {},
   "source": [
    "## 3. Preprocesamiento y postprocesamiento\n",
    "Preprocesar las imágenes puede mejorar los resultados de segmentación (puede que cada método requiera un procesamiento diferente o puede que no).  Algunas opciones de preprocesado podría ser: \n",
    "- Mejora de contraste (en color)\n",
    "- Ecualización del histograma\n",
    "- Balance de blancos (vea este [blog](https://jephraim-manansala.medium.com/image-processing-with-python-color-correction-using-white-balancing-6c6c749886de) )\n",
    "- Suavizado de la imagen \n",
    "- Filtrado para suavizar la imagen pero resaltando las imágenes\n",
    "- Gradiente o Laplaciano para detección de bordes o el uso de la transformación Watershed\n",
    "\n",
    "El procesamiento consistirá principalmente en la utilización de morfología matemática sobre las máscaras para mejorar y depurar las regiones. "
   ]
  },
  {
   "cell_type": "markdown",
   "metadata": {},
   "source": [
    "## 4. Segmentación básica usando umbralización\n",
    "\n",
    "Utilice el método de umbralización automática multi-Otsu (puede explorar otro) sobre alguna componente de color (verde) o sobre la versión en escala de grises de la imagen. El resultado de esto debe producir las regiones correspondientes a los hematíes. Una vez obtenida esta primera aproximación, evalué los resultados comparandolos con el ground truth. "
   ]
  },
  {
   "cell_type": "markdown",
   "metadata": {},
   "source": [
    "## 5. Segmentación básica usando detección de bordes.\n",
    "\n",
    "Realice la segmentación de los hematíes usando una técnica de detección de bordes usando el método de Canny (recuerde que diferentes sigmas arrojan diferentes resultados). Combine la detección con algunas técnicas de morfología matemática para generar las regiones de interés (dilatación, engrosamiento, llenado de huecos, etc)."
   ]
  },
  {
   "cell_type": "markdown",
   "metadata": {},
   "source": [
    "## 6. Segmentación usando clustering/ superpixels \n",
    "\n",
    "En este punto debe crear una segmentación similar a la del taller anterior. Es decir, usando k-means clustering para segmentar los hematíes y la combinación de la técnica SLIC (O Watershed) para generar superpixels y posteriormente el uso del clustering para segmentar.  Si usa Gaussian Mixture Models (`sklearn.mixture.GaussianMixture`) como técnica de clustering probando diferentes tipos de covarianza, recibirá bonificación en la calificación. \n",
    "\n",
    "Consejo: No trabaje  únicamente en el espacio de Color RGB, otros espacios pueden ser más efectivos como el Lab o YCBCr  "
   ]
  },
  {
   "cell_type": "markdown",
   "metadata": {},
   "source": [
    "## 7. Segmentación usando transformación Watershed y marcadores internos y externos\n",
    "\n",
    "- Determine el gradiente de la imagen (sobre el verde o en escala de grises)\n",
    "- Determine los marcadores externos e internos usara para la transformación Watershed (parámetro markers de segmentation.watershed):\n",
    "    - Como marcador interno puede usar las regiones binarias del punto (4) adelgazando su tamaño. \n",
    "    - Para determinar el marcador externo , puede encontrar las líneas watershed de la transformada distancia (`distancia = ndi.distance_transform_edt(image)`) del marcador interno. Es decir, aplicando `watershed(distancia)` y determinando sólo los bordes de las regiones de la transformación watershed. \n",
    "    - Una el marcador interno y el marcador externo, este serán los `markers`. \n",
    "- Aplique la transformación Watershed sobre la imagen (en grises) con los marcadores encontrados anteriormente.\n",
    "\n",
    "Algunas referencias útiles para este punto son:\n",
    "- https://scikit-image.org/docs/stable/auto_examples/segmentation/plot_marked_watershed.html\n",
    "\n",
    "- https://scikit-image.org/docs/dev/auto_examples/segmentation/plot_watershed.html#sphx-glr-auto-examples-segmentation-plot-watershed-py\n",
    "\n",
    "- https://la.mathworks.com/help/images/marker-controlled-watershed-segmentation.html"
   ]
  },
  {
   "cell_type": "markdown",
   "metadata": {},
   "source": [
    "## 8. Inferencia sobre las regiones traslapadas de los hematíes.\n",
    "\n",
    "La transformada de Hough en su forma más simple es un método para detectar líneas rectas, pero también se puede usar para detectar círculos o elipses. El algoritmo asume que se detecta el borde y es robusto contra el ruido o los puntos faltantes.\n",
    "\n",
    "Algunos hematíes se traslapan, esto se puede ver en la figura al comienzo, o en la figura que muestra las regiones etiquetas usando cvat (final del primer punto). Dado que las regiones de los hematíes son aproximadamente circulares o elípticas usaremos la transformada de Hough Circular y Elíptica para inferir las regiones de los hematíes, incluso algunas de las que se traslapan. \n",
    "\n",
    "Para realizar este procedimiento debe primero genear los bordes (por ejemplo con Canny) y luego proceder con la transformada de Hough Cicular o  Elíptica (`skimage.transform.hough_circle`, `skimage.transform.hough_ellipse`) para realizar la transformación al espacio de parámetros y acumular los posibles círculos y elipses. Con las mejores posibilidades de circulos o elipses puede trazar las regiones y generar las máscaras. \n",
    "\n",
    "[Este tutorial](https://scikit-image.org/docs/dev/auto_examples/edges/plot_circular_elliptical_hough_transform.html) le será muy útil para este punto. "
   ]
  },
  {
   "cell_type": "markdown",
   "metadata": {},
   "source": [
    "## 9.  Método de segmentación propio o combinado. \n",
    "En este punto cree un procedimiento para segmentar los hematíes usando una combinación de los métodos anteriores o, aplicando un método que no se haya usado como Graph cuts, contornos activos, etc."
   ]
  },
  {
   "cell_type": "markdown",
   "metadata": {},
   "source": [
    "## 10. Comparación de los resultados\n",
    "\n",
    "Recuerde que para cada segmentación debe evaluar el método en todo el ground truth usando el índice de Jaccard (o IoU). Es este punto cree una tabla comparando el valor promedio del índice sobre todas las imágenes para cada método. ¿Cuál fue el mejor método?  ¿Por qué funciono mejor? ¿Por qué los otros métodos no son tan buenos?"
   ]
  },
  {
   "cell_type": "markdown",
   "metadata": {},
   "source": [
    "## Entregables\n",
    "\n",
    "Para este proyecto debera entregar el desarrollo y visualización de los resultados en un notebook de jupyter donde se muestre el código realizado (y las pruebas). También, debe entregar un pequeño informe (máximo 4 páginas) del proyecto con una breve descripción del mismo explicando el enfoque desarrollado y el análisis de los resultados .(Puede ser otro notebook, pero sin código, o un documento en PDF).\n",
    "\n",
    "Es aconsejable en el notebook solo mostrar las imágenes (resultados) en un formato comprimido (jpg por ejm).  Muestre los resultados mostrando las imagenes originales y las posteriores al procedimiento. \n",
    "Describa cualquier idea extra implementada. \n",
    "\n",
    "Nota: Si les tarda mucho tiempo de ejecución al proceder con las imágenes originales, reduzca su tamaño por ejemplo a la mitad. "
   ]
  }
 ],
 "metadata": {
  "kernelspec": {
   "display_name": "Python 3",
   "language": "python",
   "name": "python3"
  },
  "language_info": {
   "codemirror_mode": {
    "name": "ipython",
    "version": 3
   },
   "file_extension": ".py",
   "mimetype": "text/x-python",
   "name": "python",
   "nbconvert_exporter": "python",
   "pygments_lexer": "ipython3",
   "version": "3.8.5"
  },
  "nbTranslate": {
   "displayLangs": [
    "*"
   ],
   "hotkey": "alt-t",
   "langInMainMenu": true,
   "sourceLang": "en",
   "targetLang": "fr",
   "useGoogleTranslate": true
  },
  "varInspector": {
   "cols": {
    "lenName": 16,
    "lenType": 16,
    "lenVar": 40
   },
   "kernels_config": {
    "python": {
     "delete_cmd_postfix": "",
     "delete_cmd_prefix": "del ",
     "library": "var_list.py",
     "varRefreshCmd": "print(var_dic_list())"
    },
    "r": {
     "delete_cmd_postfix": ") ",
     "delete_cmd_prefix": "rm(",
     "library": "var_list.r",
     "varRefreshCmd": "cat(var_dic_list()) "
    }
   },
   "types_to_exclude": [
    "module",
    "function",
    "builtin_function_or_method",
    "instance",
    "_Feature"
   ],
   "window_display": false
  }
 },
 "nbformat": 4,
 "nbformat_minor": 5
}
